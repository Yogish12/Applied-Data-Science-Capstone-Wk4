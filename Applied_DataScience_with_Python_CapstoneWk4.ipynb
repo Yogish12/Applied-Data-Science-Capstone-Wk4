{
 "cells": [
  {
   "cell_type": "markdown",
   "metadata": {},
   "source": [
    "# Segmenting and Clustering Neighborhoods in New York and Toronto City\n",
    "        \n",
    "#### Applied Data Science Capstone Week 4 Peer-Graded Assignment"
   ]
  },
  {
   "cell_type": "markdown",
   "metadata": {},
   "source": [
    "<h1 align=center><font size = 5>  New York City - Montage</font></h1>\n",
    "\n",
    "![alt text](https://upload.wikimedia.org/wikipedia/commons/thumb/9/9d/NYC_Montage_2014_4_-_Jleon.jpg/305px-NYC_Montage_2014_4_-_Jleon.jpg \"NYC\")\n",
    "\n",
    "\n",
    "<h1 align=center><font size = 5>Toronto City - Skyline</font></h1>\n",
    "\n",
    "![alt text](https://www.toronto.ca/wp-content/uploads/2017/07/9163-invest-in-toronto-995x330.png \"Toronto City\")"
   ]
  },
  {
   "cell_type": "markdown",
   "metadata": {},
   "source": [
    "## Introduction\n",
    "\n",
    "In this Exercise, I would like to leverage the course exercises on examining the neighborhoods in NY and Toronto City. Compare the two Metropolises and understanding how similar or different they are in terms of \n",
    "\n",
    "1. What type of Venues are Common or Different\n",
    "2. Which venue is suitable for a new restuarant to be opened\n",
    "3. Diversity of each city in terms of top venues and clusters by Venues\n",
    "4. Finally I would also like to present an analysis of Crime - Field reports in both these cities.\n",
    "\n",
    "## Data used\n",
    "\n",
    "* New York Neighborhood Dataset: https://cocl.us/new_york_dataset\n",
    "\n",
    "* New York Crime Data: https://data.cityofnewyork.us/Public-Safety/NYC-crime/qb7u-rbmr\n",
    "\n",
    "* Toronto Neighborhood Data: scraped from https://en.wikipedia.org/wiki/List_of_postal_codes_of_Canada:_M using BeautifulSoup\n",
    "\n",
    "* Toronto Crime Data: http://data.torontopolice.on.ca/datasets/mci-2014-to-2018/data (Only the crimes reported in the year 2018 is considered for this analysis)\n",
    "\n",
    "## Methodology\n",
    "\n",
    "We will convert addresses into their equivalent latitude and longitude values. Using the Foursquare API we will explore neighborhoods in New York and Toronto Cities. We will use the **explore** function to get the most common venue categories in each neighborhood, and then use this feature to group the neighborhoods into clusters. We use the *k*-means clustering algorithm to complete this task. Finally, the Folium library will be applied to visualize the neighborhoods in both the cities and their emerging clusters.\n"
   ]
  },
  {
   "cell_type": "code",
   "execution_count": null,
   "metadata": {},
   "outputs": [],
   "source": []
  }
 ],
 "metadata": {
  "kernelspec": {
   "display_name": "Python 3",
   "language": "python",
   "name": "python3"
  },
  "language_info": {
   "codemirror_mode": {
    "name": "ipython",
    "version": 3
   },
   "file_extension": ".py",
   "mimetype": "text/x-python",
   "name": "python",
   "nbconvert_exporter": "python",
   "pygments_lexer": "ipython3",
   "version": "3.6.8"
  }
 },
 "nbformat": 4,
 "nbformat_minor": 2
}
